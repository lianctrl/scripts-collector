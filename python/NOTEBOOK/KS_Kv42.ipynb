{
 "cells": [
  {
   "cell_type": "markdown",
   "metadata": {},
   "source": [
    "# Kinetic Model for Potassium Channel Kv4.2"
   ]
  },
  {
   "cell_type": "code",
   "execution_count": 3,
   "metadata": {},
   "outputs": [
    {
     "name": "stdout",
     "output_type": "stream",
     "text": [
      "\u001b[H\u001b[2J"
     ]
    }
   ],
   "source": [
    "%clear\n",
    "import numpy as np\n",
    "import matplotlib.pyplot as plt\n",
    "import matplotlib as mpl\n",
    "from scipy.integrate import odeint\n",
    "\n",
    "%matplotlib inline\n",
    "\n",
    "mpl.rcParams['figure.dpi']=100\n",
    "mpl.rcParams['figure.titlesize']=20\n",
    "mpl.rcParams['axes.facecolor']='white'        \n",
    "mpl.rcParams['lines.linewidth']=2.0\n",
    "mpl.rcParams['axes.linewidth']=2.0\n",
    "mpl.rcParams['xtick.major.pad']=6\n",
    "mpl.rcParams['ytick.major.pad']=6\n",
    "mpl.rcParams['xtick.labelsize']=14\n",
    "mpl.rcParams['ytick.labelsize']=14\n",
    "mpl.rcParams['axes.titlesize']=18\n",
    "mpl.rcParams['axes.labelsize']=18\n",
    "mpl.rcParams['axes.grid']='True'\n",
    "mpl.rcParams['axes.axisbelow']='line'\n",
    "mpl.rcParams['legend.fontsize']=12"
   ]
  },
  {
   "cell_type": "markdown",
   "metadata": {},
   "source": [
    "## Lin model for IV series"
   ]
  },
  {
   "cell_type": "markdown",
   "metadata": {},
   "source": [
    "### Wild Type"
   ]
  },
  {
   "cell_type": "code",
   "execution_count": 4,
   "metadata": {},
   "outputs": [],
   "source": [
    "def ode_Lin_model_WT (C, t, p):\n",
    "    C0=C[0]\n",
    "    C1=C[1]\n",
    "    C2=C[2]\n",
    "    C3=C[3]\n",
    "    C4=C[4]\n",
    "    I0=C[5]\n",
    "    I1=C[6]\n",
    "    I2=C[7]\n",
    "    I3=C[8]\n",
    "    I4=C[9]\n",
    "    O=C[10]\n",
    "\n",
    "    \n",
    "    #constants\n",
    "    \n",
    "    T = 291.0 #K or 18 degree celsius\n",
    "    e =  1.602176634 * (10**-19.0) # C\n",
    "    K_B = 1.380649 * (10**-23.0) # J*K^-1\n",
    "    \n",
    "    exp_factor = (e/(K_B * T)) * (10**-3) \n",
    "    \n",
    "    #conductance\n",
    "    \n",
    "#    Vrest = -100.0 # mV\n",
    "#    Vtest = 60.0 # mV\n",
    "    \n",
    "    V = 0.0 #mV \n",
    "\n",
    "    if p[4] <= t < p[5]:\n",
    "        V=p[0]\n",
    "        \n",
    "    if p[5] <= t < p[6]:\n",
    "        V=p[1]\n",
    "        \n",
    "    if p[6] <= t <= p[7]:\n",
    "        V=p[2]\n",
    "        \n",
    "    if t > p[7] :\n",
    "        V=p[3]\n",
    " \n",
    "\n",
    "\n",
    "    # wild type parameters\n",
    "    alpha_0 = 450.0 #s^-1\n",
    "    alpha_1 = 0.23 #s^-1\n",
    "    \n",
    "    beta_0 = 2.0 #s^-1\n",
    "    beta_1 = 2.2 #s^-1\n",
    "    \n",
    "    k_CO_0 = 160.0 #s^-1\n",
    "    k_CO_1 = 0.27 #s^-1\n",
    "    \n",
    "    k_OC_0 = 245.0 #s^-1\n",
    "    k_OC_1 = 0.33 #s^-1\n",
    "    \n",
    "    k_CI = 25.0 #s^-1\n",
    "    k_IC = 0.3 #s^-1\n",
    "    \n",
    "    f = 0.37\n",
    "    \n",
    "    #voltage dependent rate constants\n",
    "    \n",
    "    alpha = alpha_0 * np.exp(alpha_1 * (V * exp_factor))\n",
    "    beta = beta_0 * np.exp(-1.0 * beta_1 * (V * exp_factor))\n",
    "    k_CO = k_CO_0 * np.exp(k_CO_1 * (V * exp_factor))\n",
    "    k_OC = k_OC_0 * np.exp(-1.0 * k_OC_1 * (V * exp_factor))\n",
    "    \n",
    "    \n",
    "    # ODEs\n",
    "    \n",
    "    dC0dt = beta * C1 + (k_IC/(f**4.0)) * I0 - (k_CI*(f**4.0) + 4.0 * alpha) * C0\n",
    "    dC1dt = 4.0 * alpha * C0 + 2.0 * beta * C2 + (k_IC/(f**3.0)) * I1 - (k_CI*(f**3.0) + beta + 3.0 * alpha) * C1 \n",
    "    dC2dt = 3.0 * alpha * C1 + 3.0 * beta * C3 + (k_IC/(f**2.0)) * I2 - (k_CI*(f**2.0) + 2.0 * beta + 2.0 * alpha) * C2 \n",
    "    dC3dt = 2.0 * alpha * C2 + 4.0 * beta * C4 + (k_IC/f) * I3 - (k_CI*f + 3.0 * beta + 1.0 * alpha) * C3 \n",
    "    dC4dt = 1.0 * alpha * C3 + k_OC * O + k_IC * I4 - (k_CI + k_CO + 4.0 * beta) * C4 \n",
    "    \n",
    "    dI0dt = beta * f * I1 + (k_CI*(f**4.0)) * C0 - (k_IC/(f**4.0) + 4.0 * (alpha/f)) * I0\n",
    "    dI1dt = 4.0 * (alpha/f) * I0 + 2.0 * beta * f * I2 + (k_CI*(f**3.0)) * C1 - (k_IC/(f**3.0) + beta * f + 3.0 * (alpha/f)) * I1 \n",
    "    dI2dt = 3.0 * (alpha/f) * I1 + 3.0 * beta * f * I3 + (k_CI*(f**2.0)) * C2 - (k_IC/(f**2.0) + 2.0 * beta * f + 2.0 * (alpha/f)) * I2 \n",
    "    dI3dt = 2.0 * (alpha/f) * I2 + 4.0 * beta * f * I4 + (k_CI*f) * C3 - (k_IC/f + 3.0 * beta * f + 1.0 * (alpha/f)) * I3 \n",
    "    dI4dt = 1.0 * (alpha/f) * I3 + k_CI * C4 - (k_IC + 4.0 * beta * f) * I4     \n",
    "    \n",
    "    dOdt = k_CO * C4 - k_OC * O\n",
    "    \n",
    "    return (dC0dt, dC1dt, dC2dt, dC3dt, dC4dt, dI0dt, dI1dt, dI2dt, dI3dt, dI4dt, dOdt)"
   ]
  },
  {
   "cell_type": "markdown",
   "metadata": {},
   "source": [
    "### Mutated"
   ]
  },
  {
   "cell_type": "code",
   "execution_count": 5,
   "metadata": {},
   "outputs": [],
   "source": [
    "def ode_Lin_model_M (C, t, p):\n",
    "    C0=C[0]\n",
    "    C1=C[1]\n",
    "    C2=C[2]\n",
    "    C3=C[3]\n",
    "    C4=C[4]\n",
    "    I0=C[5]\n",
    "    I1=C[6]\n",
    "    I2=C[7]\n",
    "    I3=C[8]\n",
    "    I4=C[9]\n",
    "    O=C[10]\n",
    "\n",
    "    \n",
    "    #constants\n",
    "    \n",
    "    T = 291.0 #K or 18 degree celsius\n",
    "    e =  1.602176634 * (10**-19.0) # C\n",
    "    K_B = 1.380649 * (10**-23.0) # J*K^-1\n",
    "    \n",
    "    exp_factor = (e/(K_B * T)) * (10**-3) \n",
    "    \n",
    "    #conductance\n",
    "    \n",
    "#    Vrest = -100.0 # mV\n",
    "#    Vtest = 60.0 # mV\n",
    "    \n",
    "    V = 0.0 #mV \n",
    "\n",
    "    if p[4] <= t < p[5]:\n",
    "        V=p[0]\n",
    "        \n",
    "    if p[5] <= t < p[6]:\n",
    "        V=p[1]\n",
    "        \n",
    "    if p[6] <= t <= p[7]:\n",
    "        V=p[2]\n",
    "        \n",
    "    if t > p[7] :\n",
    "        V=p[3]\n",
    " \n",
    "\n",
    "    # wild type parameters\n",
    "    alpha_0 = 450.0 #s^-1\n",
    "    alpha_1 = 0.23 #s^-1\n",
    "    \n",
    "    beta_0 = 2.0 #s^-1\n",
    "    beta_1 = 2.2 #s^-1\n",
    "    \n",
    "    k_CO_0 = 590.0 #s^-1\n",
    "    k_CO_1 = 0.13 #s^-1\n",
    "    \n",
    "    k_OC_0 = 1.4 #s^-1\n",
    "    k_OC_1 = 0.40 #s^-1\n",
    "    \n",
    "    k_CI = 200 #s^-1\n",
    "    k_IC = 0.07 #s^-1\n",
    "    \n",
    "    # allosteric factor\n",
    "    f = 0.25\n",
    "    \n",
    "    #voltage dependent rate constants\n",
    "    \n",
    "    alpha = alpha_0 * np.exp(alpha_1 * (V * exp_factor))\n",
    "    beta = beta_0 * np.exp(-1.0 * beta_1 * (V * exp_factor))\n",
    "    k_CO = k_CO_0 * np.exp(k_CO_1 * (V * exp_factor))\n",
    "    k_OC = k_OC_0 * np.exp(-1.0 * k_OC_1 * (V * exp_factor))\n",
    "    \n",
    "    \n",
    "    # ODEs\n",
    "    \n",
    "    dC0dt = beta * C1 + (k_IC/(f**4.0)) * I0 - (k_CI*(f**4.0) + 4.0 * alpha) * C0\n",
    "    dC1dt = 4.0 * alpha * C0 + 2.0 * beta * C2 + (k_IC/(f**3.0)) * I1 - (k_CI*(f**3.0) + beta + 3.0 * alpha) * C1 \n",
    "    dC2dt = 3.0 * alpha * C1 + 3.0 * beta * C3 + (k_IC/(f**2.0)) * I2 - (k_CI*(f**2.0) + 2.0 * beta + 2.0 * alpha) * C2 \n",
    "    dC3dt = 2.0 * alpha * C2 + 4.0 * beta * C4 + (k_IC/f) * I3 - (k_CI*f + 3.0 * beta + 1.0 * alpha) * C3 \n",
    "    dC4dt = 1.0 * alpha * C3 + k_OC * O + k_IC * I4 - (k_CI + k_CO + 4.0 * beta) * C4 \n",
    "    \n",
    "    dI0dt = beta * f * I1 + (k_CI*(f**4.0)) * C0 - (k_IC/(f**4.0) + 4.0 * (alpha/f)) * I0\n",
    "    dI1dt = 4.0 * (alpha/f) * I0 + 2.0 * beta * f * I2 + (k_CI*(f**3.0)) * C1 - (k_IC/(f**3.0) + beta * f + 3.0 * (alpha/f)) * I1 \n",
    "    dI2dt = 3.0 * (alpha/f) * I1 + 3.0 * beta * f * I3 + (k_CI*(f**2.0)) * C2 - (k_IC/(f**2.0) + 2.0 * beta * f + 2.0 * (alpha/f)) * I2 \n",
    "    dI3dt = 2.0 * (alpha/f) * I2 + 4.0 * beta * f * I4 + (k_CI*f) * C3 - (k_IC/f + 3.0 * beta * f + 1.0 * (alpha/f)) * I3 \n",
    "    dI4dt = 1.0 * (alpha/f) * I3 + k_CI * C4 - (k_IC + 4.0 * beta * f) * I4     \n",
    "    \n",
    "    dOdt = k_CO * C4 - k_OC * O\n",
    "    \n",
    "    return (dC0dt, dC1dt, dC2dt, dC3dt, dC4dt, dI0dt, dI1dt, dI2dt, dI3dt, dI4dt, dOdt)"
   ]
  },
  {
   "cell_type": "markdown",
   "metadata": {},
   "source": [
    "### IV Series Wild Type"
   ]
  },
  {
   "cell_type": "code",
   "execution_count": 6,
   "metadata": {},
   "outputs": [],
   "source": [
    "Vrest   = -100.0 # mV\n",
    "Vstep   =  60.0 # mV\n",
    "Vtest   =  60.0 # mV\n",
    "Vrepo   =  60.0 # mV\n",
    "# conductance parameters\n",
    "\n",
    "#EK      = 0.0    # mV\n",
    "gK_max  = 20.0     # mS cm^-2\n",
    "\n",
    "# Assuming no leaking\n",
    "#EL      = 0.0  # -22.0 # mV\n",
    "#gL_max  = 0.0    # mS cm^-2\n",
    "\n",
    "# Membrane capacitance\n",
    "Cm      = 1.0    # microF cm^-2\n",
    "\n",
    "# Time of experiments\n",
    "tini_eq   = 0    # s\n",
    "tini_prep = 5 # s\n",
    "tini_test = 10 # s\n",
    "tini_repo = 10 # s\n",
    "tend = 10 # s\n",
    "\n",
    "# Time discretiztion\n",
    "Npoints = 100000\n",
    "Points_per_sec = np.int(Npoints/tend) \n",
    "\n",
    "# Define Potential function (To be improved if one wants to do IV, deactivation, inactivation or recovery)\n",
    "V=np.zeros(Npoints)\n",
    "V[Points_per_sec*tini_eq:Points_per_sec*tini_prep]=Vrest\n",
    "V[Points_per_sec*tini_prep:Points_per_sec*tend]=Vstep\n",
    "#V[6000001:10000000]=Vtest\n",
    "#[10000001]=Vrest\n",
    "\n",
    "# Guess of initial conditions for the states \n",
    "\n",
    "C0_0=0.4390\n",
    "C1_0=0.2588\n",
    "C2_0=0.0572\n",
    "C3_0=0.0056\n",
    "C4_0=0.0002\n",
    "I0_0=0.0128\n",
    "I1_0=0.0553\n",
    "I2_0=0.0894\n",
    "I3_0=0.0642\n",
    "I4_0=0.0172\n",
    "O_0=0.0001\n",
    "\n",
    "# Pack up the parameters and initial conditions:\n",
    "\n",
    "z0 = [C0_0, C1_0, C2_0, C3_0, C4_0, I0_0, I1_0, I2_0, I3_0, I4_0, O_0]\n",
    "\n",
    "#K = [Vstep,tini_eq, tini_prep, tini_test, tini_repo]\n",
    "\n",
    "K = [Vrest, Vstep, Vtest, Vrepo, tini_eq, tini_prep, tini_test, tini_repo]\n",
    "\n",
    "# time array\n",
    "t = np.linspace(tini_eq,tend,Npoints)\n",
    "\n",
    "# ODE solver parameters\n",
    "abserr = 1.0e-8\n",
    "relerr = 1.0e-6\n",
    "\n",
    "# Call for the ODE integrator with initial conditions z0 and parameter K\n",
    "C = odeint(ode_Lin_model_WT, z0, t, args=(K,))\n",
    "\n",
    "# Compute the current proportional to the open channel conductance and potential applied\n",
    "I = gK_max * C[:,10] * (V[:] - Vrest)\n"
   ]
  },
  {
   "cell_type": "code",
   "execution_count": 10,
   "metadata": {},
   "outputs": [],
   "source": [
    "Vhold   =  -110.0 # mV\n",
    "Vstep   =  10.0 # mV\n",
    "Vtest   =  60.0 # mV\n",
    "Vrepo   =  -110.0 # mV\n",
    "Vmax    =  10.0 # mV\n",
    "\n",
    "# conductance parameters\n",
    "\n",
    "#EK      = 0.0    # mV\n",
    "gK_max  = 33.2     # nS \n",
    "\n",
    "# Assuming no leaking\n",
    "#EL      = 0.0    # mV\n",
    "#gL_max  = 0.0    # mS \n",
    "\n",
    "# Membrane capacitance\n",
    "Cm      = 1.0    # microF cm^-2\n",
    "\n",
    "# Time of experiments\n",
    "tini_eq   = 0    # s\n",
    "tini_prep = 1.00 # s\n",
    "tini_test = 2.00 # s\n",
    "tini_repo = 3.00 # s\n",
    "tend = 4.00 # s\n",
    "\n",
    "# Time discretiztion\n",
    "Npoints = 100000\n",
    "Points_per_sec = np.int(Npoints/tend) \n",
    "\n",
    "\n",
    "# time array\n",
    "t = np.linspace(tini_eq,tend,Npoints)\n",
    "\n",
    "# Guess of initial conditions for the states \n",
    "\n",
    "C0_0=0.4390\n",
    "C1_0=0.2588\n",
    "C2_0=0.0572\n",
    "C3_0=0.0056\n",
    "C4_0=0.0002\n",
    "I0_0=0.0128\n",
    "I1_0=0.0553\n",
    "I2_0=0.0894\n",
    "I3_0=0.0642\n",
    "I4_0=0.0172\n",
    "O_0=0.0001\n",
    "\n",
    "# Pack up the parameters and initial conditions:\n",
    "\n",
    "z0 = [C0_0, C1_0, C2_0, C3_0, C4_0, I0_0, I1_0, I2_0, I3_0, I4_0, O_0]\n",
    "\n",
    "steps = np.abs(np.int((-130.0-Vmax)/Vstep)) + 1\n",
    "\n",
    "Open_states = np.zeros((Npoints,steps))\n",
    "\n",
    "max_conductance = np.zeros(steps) \n",
    "\n",
    "for i in range(0,steps):\n",
    "    \n",
    "    \n",
    "    # Define Potential function (To be improved if one wants to do IV, deactivation, inactivation or recovery)\n",
    "    Vprep = -130.0 + i * Vstep\n",
    "    V = np.zeros(Npoints)\n",
    "    V[np.int(Points_per_sec*tini_eq):np.int(Points_per_sec*tini_prep)] = Vhold\n",
    "    V[np.int(Points_per_sec*tini_prep):np.int(Points_per_sec*tini_test)] = Vprep\n",
    "    V[np.int(Points_per_sec*tini_test):np.int(Points_per_sec*tini_repo)+1] = Vtest\n",
    "    V[np.int(Points_per_sec*tini_repo):np.int(Points_per_sec*tend)+1] = Vrepo\n",
    "    \n",
    "    K = [Vhold, Vprep, Vtest, Vrepo, tini_eq, tini_prep, tini_test, tini_repo]\n",
    "\n",
    "\n",
    "    # ODE solver parameters\n",
    "    abserr = 1.0e-8\n",
    "    relerr = 1.0e-6\n",
    "\n",
    "    # Call for the ODE integrator with initial conditions z0 and parameter K\n",
    "    C = odeint(ode_Lin_model_WT, z0, t, args=(K,))\n",
    "\n",
    "    Open_states[:,i] = C[:,10]\n",
    "      \n",
    "    max_conductance[i] = gK_max * np.amax(C[np.int(Points_per_sec*tini_test):,10])\n",
    "    # Compute the current proportional to the open channel conductance and potential applied\n",
    "    #I = gK_max * C[:,10] * (V[:] - Vhold) # nS * mV = pA\n"
   ]
  },
  {
   "cell_type": "code",
   "execution_count": 11,
   "metadata": {},
   "outputs": [
    {
     "data": {
      "image/png": "[encoded data removed]",
      "text/plain": [
       "<Figure size 432x288 with 1 Axes>"
      ]
     },
     "metadata": {
      "needs_background": "light"
     },
     "output_type": "display_data"
    }
   ],
   "source": [
    "ciao=(max_conductance-np.amin(max_conductance))/(np.amax(max_conductance)-np.amin(max_conductance))\n",
    "fig = plt.figure()\n",
    "V=np.linspace(-130,10,15)\n",
    "plt.scatter(V,ciao)\n",
    "plt.show()"
   ]
  },
  {
   "cell_type": "markdown",
   "metadata": {},
   "source": [
    "### Plot IV series"
   ]
  },
  {
   "cell_type": "code",
   "execution_count": 5,
   "metadata": {},
   "outputs": [
    {
     "data": {
      "image/png": "[encoded data removed]",
      "text/plain": [
       "<Figure size 432x288 with 1 Axes>"
      ]
     },
     "metadata": {
      "needs_background": "light"
     },
     "output_type": "display_data"
    },
    {
     "data": {
      "image/png": "[encoded data removed]",
      "text/plain": [
       "<Figure size 432x288 with 1 Axes>"
      ]
     },
     "metadata": {
      "needs_background": "light"
     },
     "output_type": "display_data"
    }
   ],
   "source": [
    "fig = plt.figure()\n",
    "axes_1= fig.add_subplot(111)\n",
    "plt.title('V applied')\n",
    "plt.plot(t, V, 'b-', linewidth=2.0, label=\"V (mV)\")\n",
    "plt.legend(loc='lower right')\n",
    "plt.show()\n",
    "\n",
    "axes = fig.add_subplot(211)\n",
    "plt.title('IV serie')\n",
    "\n",
    "plt.plot(t, I, 'r-', linewidth=2.0, label=\"I\")\n",
    "\n",
    "#axes.set_ylim([-1,1])\n",
    "axes.set_xlim([4.98,6])\n",
    "\n",
    "plt.legend(loc='upper right')\n",
    "plt.show()"
   ]
  },
  {
   "cell_type": "code",
   "execution_count": 6,
   "metadata": {},
   "outputs": [
    {
     "data": {
      "image/png": "[encoded data removed]",
      "text/plain": [
       "<Figure size 432x288 with 1 Axes>"
      ]
     },
     "metadata": {
      "needs_background": "light"
     },
     "output_type": "display_data"
    }
   ],
   "source": [
    "sum_Closed = C[:,0]+C[:,1]+C[:,2]+C[:,3]+C[:,4]\n",
    "sum_Inactivated = C[:,5]+C[:,6]+C[:,7]+C[:,8]+C[:,9]\n",
    "\n",
    "fig = plt.figure()\n",
    "axes_1= fig.add_subplot(111)\n",
    "plt.title('Behaviour of the states')\n",
    "    \n",
    "plt.plot(t, sum_Closed, linewidth=2.0, label=\"Closed States\")\n",
    "plt.plot(t, sum_Inactivated, linewidth=2.0, label=\"Inact. States\")\n",
    "plt.plot(t, C[:,10], linewidth=2.0, label=\"Open State\")\n",
    "\n",
    "plt.legend(loc='center left')\n",
    "plt.show()"
   ]
  },
  {
   "cell_type": "markdown",
   "metadata": {},
   "source": [
    "### IV Series V404"
   ]
  },
  {
   "cell_type": "code",
   "execution_count": 7,
   "metadata": {},
   "outputs": [],
   "source": [
    "Vrest   = -100.0 # mV\n",
    "Vstep   =  60.0  # mV\n",
    "Vtest   =  60.0 # mV\n",
    "Vrepo   =  60.0 # mV\n",
    "# conductance parameters\n",
    "\n",
    "#EK      = 0.0    # mV\n",
    "gK_max  = 20.0     # mS cm^-2\n",
    "\n",
    "# Assuming no leaking\n",
    "#EL      = 0.0  # -22.0 # mV\n",
    "#gL_max  = 0.0    # mS cm^-2\n",
    "\n",
    "# Membrane capacitance\n",
    "Cm      = 1.0    # microF cm^-2\n",
    "\n",
    "# Time of experiments\n",
    "tini_eq   = 0    # s\n",
    "tini_prep = 5 # s\n",
    "tini_test = 10 # s\n",
    "tini_repo = 10 # s\n",
    "tend = 10 # s\n",
    "\n",
    "# Time discretiztion\n",
    "Npoints = 100000\n",
    "Points_per_sec = np.int(Npoints/tend) \n",
    "\n",
    "# Define Potential function (To be improved if one wants to do IV, deactivation, inactivation or recovery)\n",
    "V=np.zeros(Npoints)\n",
    "V[Points_per_sec*tini_eq:Points_per_sec*tini_prep]=Vrest\n",
    "V[Points_per_sec*tini_prep:Points_per_sec*tend]=Vstep\n",
    "#V[6000001:10000000]=Vtest\n",
    "#[10000001]=Vrest\n",
    "\n",
    "# Guess of initial conditions for the states \n",
    "\n",
    "C0_0=0.4390\n",
    "C1_0=0.2588\n",
    "C2_0=0.0572\n",
    "C3_0=0.0056\n",
    "C4_0=0.0002\n",
    "I0_0=0.0128\n",
    "I1_0=0.0553\n",
    "I2_0=0.0894\n",
    "I3_0=0.0642\n",
    "I4_0=0.0172\n",
    "O_0=0.0001\n",
    "\n",
    "# Pack up the parameters and initial conditions:\n",
    "\n",
    "z0 = [C0_0, C1_0, C2_0, C3_0, C4_0, I0_0, I1_0, I2_0, I3_0, I4_0, O_0]\n",
    "\n",
    "#K = [Vstep,tini_eq, tini_prep, tini_test, tini_repo]\n",
    "\n",
    "K = [Vrest, Vstep, Vtest, Vrepo, tini_eq, tini_prep, tini_test, tini_repo]\n",
    "\n",
    "# time array\n",
    "t = np.linspace(tini_eq,tend,Npoints)\n",
    "\n",
    "# ODE solver parameters\n",
    "abserr = 1.0e-8\n",
    "relerr = 1.0e-6\n",
    "\n",
    "# Call for the ODE integrator with initial conditions z0 and parameter K\n",
    "C = odeint(ode_Lin_model_M, z0, t, args=(K,))\n",
    "\n",
    "# Compute the current proportional to the open channel conductance and potential applied\n",
    "I = gK_max * C[:,10] * (V[:] - Vrest)"
   ]
  },
  {
   "cell_type": "markdown",
   "metadata": {},
   "source": [
    "### Plot IV series"
   ]
  },
  {
   "cell_type": "code",
   "execution_count": 8,
   "metadata": {},
   "outputs": [
    {
     "data": {
      "image/png": "[encoded data removed]",
      "text/plain": [
       "<Figure size 432x288 with 1 Axes>"
      ]
     },
     "metadata": {
      "needs_background": "light"
     },
     "output_type": "display_data"
    },
    {
     "data": {
      "image/png": "[encoded data removed]",
      "text/plain": [
       "<Figure size 432x288 with 1 Axes>"
      ]
     },
     "metadata": {
      "needs_background": "light"
     },
     "output_type": "display_data"
    }
   ],
   "source": [
    "fig = plt.figure()\n",
    "axes_1= fig.add_subplot(111)\n",
    "plt.title('V applied')\n",
    "plt.plot(t, V, 'b-', linewidth=2.0, label=\"V (mV)\")\n",
    "plt.legend(loc='lower right')\n",
    "plt.show()\n",
    "\n",
    "axes = fig.add_subplot(211)\n",
    "plt.title('IV serie')\n",
    "\n",
    "plt.plot(t, I, 'r-', linewidth=2.0, label=\"I\")\n",
    "\n",
    "#axes.set_ylim([-1,1])\n",
    "axes.set_xlim([4.98,6])\n",
    "\n",
    "plt.legend(loc='upper right')\n",
    "plt.show()"
   ]
  },
  {
   "cell_type": "code",
   "execution_count": 9,
   "metadata": {},
   "outputs": [
    {
     "data": {
      "image/png": "[encoded data removed]",
      "text/plain": [
       "<Figure size 432x288 with 1 Axes>"
      ]
     },
     "metadata": {
      "needs_background": "light"
     },
     "output_type": "display_data"
    }
   ],
   "source": [
    "sum_Closed = C[:,0]+C[:,1]+C[:,2]+C[:,3]+C[:,4]\n",
    "sum_Inactivated = C[:,5]+C[:,6]+C[:,7]+C[:,8]+C[:,9]\n",
    "\n",
    "fig = plt.figure()\n",
    "axes_1= fig.add_subplot(111)\n",
    "plt.title('Behaviour of the states')\n",
    "    \n",
    "plt.plot(t, sum_Closed, linewidth=2.0, label=\"Closed States\")\n",
    "plt.plot(t, sum_Inactivated, linewidth=2.0, label=\"Inact. States\")\n",
    "plt.plot(t, C[:,10], linewidth=2.0, label=\"Open State\")\n",
    "\n",
    "plt.legend(loc='center left')\n",
    "plt.show()"
   ]
  },
  {
   "cell_type": "markdown",
   "metadata": {},
   "source": [
    "## Deactivation Wild Type"
   ]
  },
  {
   "cell_type": "code",
   "execution_count": 10,
   "metadata": {},
   "outputs": [],
   "source": [
    "Vrest   =   60.0 # mV\n",
    "Vstep   =  -100.0  # mV\n",
    "Vtest   =  -100.0 # mV\n",
    "Vrepo   =  -100.0 # mV\n",
    "# conductance parameters\n",
    "\n",
    "#EK      = 0.0    # mV\n",
    "gK_max  = 20.0     # mS cm^-2\n",
    "\n",
    "# Assuming no leaking\n",
    "#EL      = 0.0  # -22.0 # mV\n",
    "#gL_max  = 0.0    # mS cm^-2\n",
    "\n",
    "# Membrane capacitance\n",
    "Cm      = 1.0    # microF cm^-2\n",
    "\n",
    "# Time of experiments\n",
    "tini_eq   = 0    # s\n",
    "tini_prep = 1 # s\n",
    "tini_test = 1.02 # s\n",
    "tini_repo = 2 # s\n",
    "tend = 2 # s\n",
    "\n",
    "# Time discretiztion\n",
    "Npoints = 100000\n",
    "Points_per_sec = np.int(Npoints/tend) \n",
    "\n",
    "# Define Potential function (To be improved if one wants to do IV, deactivation, inactivation or recovery)\n",
    "V=np.zeros(Npoints)\n",
    "V[np.int(Points_per_sec * tini_eq):np.int(Points_per_sec * tini_prep)] = Vrest\n",
    "V[np.int(Points_per_sec * tini_prep):np.int(Points_per_sec * tini_test)] = Vstep\n",
    "V[np.int(Points_per_sec * tini_test):np.int(Points_per_sec * tini_repo)] = Vtest\n",
    "#V[Points_per_sec*tini_repo:Points_per_sec*tend]=Vrest\n",
    "\n",
    "# Guess of initial conditions for the states \n",
    "\n",
    "C0_0=0.4390\n",
    "C1_0=0.2588\n",
    "C2_0=0.0572\n",
    "C3_0=0.0056\n",
    "C4_0=0.0002\n",
    "I0_0=0.0128\n",
    "I1_0=0.0553\n",
    "I2_0=0.0894\n",
    "I3_0=0.0642\n",
    "I4_0=0.0172\n",
    "O_0=0.0001\n",
    "\n",
    "# Pack up the parameters and initial conditions:\n",
    "\n",
    "z0 = [C0_0, C1_0, C2_0, C3_0, C4_0, I0_0, I1_0, I2_0, I3_0, I4_0, O_0]\n",
    "\n",
    "#K = [Vstep,tini_eq, tini_prep, tini_test, tini_repo]\n",
    "\n",
    "K = [Vrest, Vstep, Vtest, Vrepo, tini_eq, tini_prep, tini_test, tini_repo]\n",
    "\n",
    "# time array\n",
    "t = np.linspace(tini_eq,tend,Npoints)\n",
    "\n",
    "# ODE solver parameters\n",
    "abserr = 1.0e-8\n",
    "relerr = 1.0e-6\n",
    "\n",
    "# Call for the ODE integrator with initial conditions z0 and parameter K\n",
    "C = odeint(ode_Lin_model_WT, z0, t, args=(K,))\n",
    "\n",
    "# Compute the current proportional to the open channel conductance and potential applied\n",
    "I = gK_max * C[:,10] * (V[:] - Vrest)\n"
   ]
  },
  {
   "cell_type": "markdown",
   "metadata": {},
   "source": [
    "### Plot Deactivation"
   ]
  },
  {
   "cell_type": "code",
   "execution_count": 11,
   "metadata": {},
   "outputs": [
    {
     "data": {
      "image/png": "[encoded data removed]",
      "text/plain": [
       "<Figure size 432x288 with 1 Axes>"
      ]
     },
     "metadata": {
      "needs_background": "light"
     },
     "output_type": "display_data"
    },
    {
     "data": {
      "image/png": "[encoded data removed]",
      "text/plain": [
       "<Figure size 432x288 with 1 Axes>"
      ]
     },
     "metadata": {
      "needs_background": "light"
     },
     "output_type": "display_data"
    }
   ],
   "source": [
    "fig = plt.figure()\n",
    "axes_V= fig.add_subplot(111)\n",
    "plt.title('V applied')\n",
    "plt.plot(t, V, 'b-', linewidth=2.0, label=\"V (mV)\")\n",
    "plt.legend(loc='lower right')\n",
    "plt.show()\n",
    "\n",
    "miao = plt.figure()\n",
    "axes = miao.add_subplot(111)\n",
    "plt.title('Deactivation WT')\n",
    "\n",
    "plt.plot(t, I, 'r-', linewidth=2.0, label=\"I\")\n",
    "\n",
    "#axes.set_ylim([-1,1])\n",
    "axes.set_xlim([0.99,1.02])\n",
    "\n",
    "plt.legend(loc='upper right')\n",
    "plt.show()"
   ]
  },
  {
   "cell_type": "markdown",
   "metadata": {},
   "source": [
    "## Deactivation Mutated"
   ]
  },
  {
   "cell_type": "code",
   "execution_count": 12,
   "metadata": {},
   "outputs": [],
   "source": [
    "Vrest   =   60.0 # mV\n",
    "Vstep   =  -100.0  # mV\n",
    "Vtest   =  -100.0 # mV\n",
    "Vrepo   =  -100.0 # mV\n",
    "# conductance parameters\n",
    "\n",
    "#EK      = 0.0    # mV\n",
    "gK_max  = 20.0     # mS cm^-2\n",
    "\n",
    "# Assuming no leaking\n",
    "#EL      = 0.0  # -22.0 # mV\n",
    "#gL_max  = 0.0    # mS cm^-2\n",
    "\n",
    "# Membrane capacitance\n",
    "Cm      = 1.0    # microF cm^-2\n",
    "\n",
    "# Time of experiments\n",
    "tini_eq   = 0    # s\n",
    "tini_prep = 1 # s\n",
    "tini_test = 1.02 # s\n",
    "tini_repo = 2 # s\n",
    "tend = 2 # s\n",
    "\n",
    "# Time discretiztion\n",
    "Npoints = 100000\n",
    "Points_per_sec = np.int(Npoints/tend) \n",
    "\n",
    "# Define Potential function (To be improved if one wants to do IV, deactivation, inactivation or recovery)\n",
    "V=np.zeros(Npoints)\n",
    "V[np.int(Points_per_sec * tini_eq):np.int(Points_per_sec * tini_prep)] = Vrest\n",
    "V[np.int(Points_per_sec * tini_prep):np.int(Points_per_sec * tini_test)] = Vstep\n",
    "V[np.int(Points_per_sec * tini_test):np.int(Points_per_sec * tini_repo)] = Vtest\n",
    "#V[Points_per_sec*tini_repo:Points_per_sec*tend]=Vrest\n",
    "\n",
    "# Guess of initial conditions for the states \n",
    "\n",
    "C0_0=0.4390\n",
    "C1_0=0.2588\n",
    "C2_0=0.0572\n",
    "C3_0=0.0056\n",
    "C4_0=0.0002\n",
    "I0_0=0.0128\n",
    "I1_0=0.0553\n",
    "I2_0=0.0894\n",
    "I3_0=0.0642\n",
    "I4_0=0.0172\n",
    "O_0=0.0001\n",
    "\n",
    "# Pack up the parameters and initial conditions:\n",
    "\n",
    "z0 = [C0_0, C1_0, C2_0, C3_0, C4_0, I0_0, I1_0, I2_0, I3_0, I4_0, O_0]\n",
    "\n",
    "#K = [Vstep,tini_eq, tini_prep, tini_test, tini_repo]\n",
    "\n",
    "K = [Vrest, Vstep, Vtest, Vrepo, tini_eq, tini_prep, tini_test, tini_repo]\n",
    "\n",
    "# time array\n",
    "t = np.linspace(tini_eq,tend,Npoints)\n",
    "\n",
    "# ODE solver parameters\n",
    "abserr = 1.0e-8\n",
    "relerr = 1.0e-6\n",
    "\n",
    "# Call for the ODE integrator with initial conditions z0 and parameter K\n",
    "C = odeint(ode_Lin_model_M, z0, t, args=(K,))\n",
    "\n",
    "# Compute the current proportional to the open channel conductance and potential applied\n",
    "I = gK_max * C[:,10] * (V[:] - Vrest)"
   ]
  },
  {
   "cell_type": "markdown",
   "metadata": {},
   "source": [
    "### Plot Deactivation"
   ]
  },
  {
   "cell_type": "code",
   "execution_count": 13,
   "metadata": {},
   "outputs": [
    {
     "data": {
      "image/png": "[encoded data removed]",
      "text/plain": [
       "<Figure size 432x288 with 1 Axes>"
      ]
     },
     "metadata": {
      "needs_background": "light"
     },
     "output_type": "display_data"
    },
    {
     "data": {
      "image/png": "[encoded data removed]",
      "text/plain": [
       "<Figure size 432x288 with 1 Axes>"
      ]
     },
     "metadata": {
      "needs_background": "light"
     },
     "output_type": "display_data"
    }
   ],
   "source": [
    "fig = plt.figure()\n",
    "axes_V= fig.add_subplot(111)\n",
    "plt.title('V applied')\n",
    "plt.plot(t, V, 'b-', linewidth=2.0, label=\"V (mV)\")\n",
    "plt.legend(loc='lower right')\n",
    "plt.show()\n",
    "\n",
    "miao = plt.figure()\n",
    "axes = miao.add_subplot(111)\n",
    "plt.title('Deactivation V404')\n",
    "\n",
    "plt.plot(t, I, 'r-', linewidth=2.0, label=\"I\")\n",
    "\n",
    "#axes.set_ylim([-1,1])\n",
    "#axes.set_xlim([0.99,1.02])\n",
    "\n",
    "plt.legend(loc='upper right')\n",
    "plt.show()"
   ]
  },
  {
   "cell_type": "markdown",
   "metadata": {},
   "source": [
    "## Inactivation Wild type"
   ]
  },
  {
   "cell_type": "code",
   "execution_count": 14,
   "metadata": {},
   "outputs": [],
   "source": [
    "Vrest   = -100.0 # mV\n",
    "Vstep   =  -60.0  # mV\n",
    "Vtest   =  20.0 # mV\n",
    "Vrepo   =  -100.0 # mV\n",
    "# conductance parameters\n",
    "\n",
    "#EK      = 0.0    # mV\n",
    "gK_max  = 20.0     # mS cm^-2\n",
    "\n",
    "# Assuming no leaking\n",
    "#EL      = 0.0  # -22.0 # mV\n",
    "#gL_max  = 0.0    # mS cm^-2\n",
    "\n",
    "# Membrane capacitance\n",
    "Cm      = 1.0    # microF cm^-2\n",
    "\n",
    "# Time of experiments\n",
    "tini_eq   = 0    # s\n",
    "tini_prep = 0.5 # s\n",
    "tini_test = 1.0 # s\n",
    "tini_repo = 1.1 # s\n",
    "tend = 2.0 # s\n",
    "\n",
    "# Time discretiztion\n",
    "Npoints = 100000\n",
    "Points_per_sec = np.int(Npoints/tend) \n",
    "\n",
    "# Define Potential function (To be improved if one wants to do IV, deactivation, inactivation or recovery)\n",
    "V=np.zeros(Npoints)\n",
    "V[np.int(Points_per_sec * tini_eq):np.int(Points_per_sec * tini_prep)] = Vrest\n",
    "V[np.int(Points_per_sec * tini_prep):np.int(Points_per_sec * tini_test)] = Vstep\n",
    "V[np.int(Points_per_sec * tini_test):np.int(Points_per_sec * tini_repo)] = Vtest\n",
    "V[np.int(Points_per_sec * tini_repo):np.int(Points_per_sec * tend)] = Vrepo\n",
    "\n",
    "# Guess of initial conditions for the states \n",
    "\n",
    "C0_0=0.4390\n",
    "C1_0=0.2588\n",
    "C2_0=0.0572\n",
    "C3_0=0.0056\n",
    "C4_0=0.0002\n",
    "I0_0=0.0128\n",
    "I1_0=0.0553\n",
    "I2_0=0.0894\n",
    "I3_0=0.0642\n",
    "I4_0=0.0172\n",
    "O_0=0.0001\n",
    "\n",
    "# Pack up the parameters and initial conditions:\n",
    "\n",
    "z0 = [C0_0, C1_0, C2_0, C3_0, C4_0, I0_0, I1_0, I2_0, I3_0, I4_0, O_0]\n",
    "\n",
    "#K = [Vstep,tini_eq, tini_prep, tini_test, tini_repo]\n",
    "\n",
    "K = [Vrest, Vstep, Vtest, Vrepo, tini_eq, tini_prep, tini_test, tini_repo]\n",
    "\n",
    "# time array\n",
    "t = np.linspace(tini_eq,tend,Npoints)\n",
    "\n",
    "# ODE solver parameters\n",
    "abserr = 1.0e-8\n",
    "relerr = 1.0e-6\n",
    "\n",
    "# Call for the ODE integrator with initial conditions z0 and parameter K\n",
    "C = odeint(ode_Lin_model_WT, z0, t, args=(K,))\n",
    "\n",
    "# Compute the current proportional to the open channel conductance and potential applied\n",
    "I = gK_max * C[:,10] * (V[:] - Vrest)\n"
   ]
  },
  {
   "cell_type": "markdown",
   "metadata": {},
   "source": [
    "### Plot Inactivation"
   ]
  },
  {
   "cell_type": "code",
   "execution_count": 15,
   "metadata": {},
   "outputs": [
    {
     "data": {
      "image/png": "[encoded data removed]",
      "text/plain": [
       "<Figure size 432x288 with 1 Axes>"
      ]
     },
     "metadata": {
      "needs_background": "light"
     },
     "output_type": "display_data"
    },
    {
     "data": {
      "image/png": "[encoded data removed]",
      "text/plain": [
       "<Figure size 432x288 with 1 Axes>"
      ]
     },
     "metadata": {
      "needs_background": "light"
     },
     "output_type": "display_data"
    }
   ],
   "source": [
    "fig = plt.figure()\n",
    "axes_V= fig.add_subplot(111)\n",
    "plt.title('V applied')\n",
    "plt.plot(t, V, 'b-', linewidth=2.0, label=\"V (mV)\")\n",
    "plt.legend(loc='lower right')\n",
    "plt.show()\n",
    "\n",
    "miao = plt.figure()\n",
    "axes = miao.add_subplot(111)\n",
    "plt.title('Inactivation WT')\n",
    "\n",
    "plt.plot(t, I, 'r-', linewidth=2.0, label=\"I\")\n",
    "\n",
    "#axes.set_ylim([-1,1])\n",
    "axes.set_xlim([0.99,1.5])\n",
    "\n",
    "plt.legend(loc='upper right')\n",
    "plt.show()"
   ]
  },
  {
   "cell_type": "markdown",
   "metadata": {},
   "source": [
    "## Inactivation V404"
   ]
  },
  {
   "cell_type": "code",
   "execution_count": 16,
   "metadata": {},
   "outputs": [],
   "source": [
    "Vrest   = -100.0 # mV\n",
    "Vstep   =  -60.0  # mV\n",
    "Vtest   =  20.0 # mV\n",
    "Vrepo   =  -100.0 # mV\n",
    "# conductance parameters\n",
    "\n",
    "#EK      = 0.0    # mV\n",
    "gK_max  = 20.0     # mS cm^-2\n",
    "\n",
    "# Assuming no leaking\n",
    "#EL      = 0.0  # -22.0 # mV\n",
    "#gL_max  = 0.0    # mS cm^-2\n",
    "\n",
    "# Membrane capacitance\n",
    "Cm      = 1.0    # microF cm^-2\n",
    "\n",
    "# Time of experiments\n",
    "tini_eq   = 0    # s\n",
    "tini_prep = 0.5 # s\n",
    "tini_test = 1.0 # s\n",
    "tini_repo = 1.1 # s\n",
    "tend = 2.0 # s\n",
    "\n",
    "# Time discretiztion\n",
    "Npoints = 100000\n",
    "Points_per_sec = np.int(Npoints/tend) \n",
    "\n",
    "# Define Potential function (To be improved if one wants to do IV, deactivation, inactivation or recovery)\n",
    "V=np.zeros(Npoints)\n",
    "V[np.int(Points_per_sec * tini_eq):np.int(Points_per_sec * tini_prep)] = Vrest\n",
    "V[np.int(Points_per_sec * tini_prep):np.int(Points_per_sec * tini_test)] = Vstep\n",
    "V[np.int(Points_per_sec * tini_test):np.int(Points_per_sec * tini_repo)] = Vtest\n",
    "V[np.int(Points_per_sec * tini_repo):np.int(Points_per_sec * tend)] = Vrepo\n",
    "\n",
    "# Guess of initial conditions for the states \n",
    "\n",
    "C0_0=0.4390\n",
    "C1_0=0.2588\n",
    "C2_0=0.0572\n",
    "C3_0=0.0056\n",
    "C4_0=0.0002\n",
    "I0_0=0.0128\n",
    "I1_0=0.0553\n",
    "I2_0=0.0894\n",
    "I3_0=0.0642\n",
    "I4_0=0.0172\n",
    "O_0=0.0001\n",
    "\n",
    "# Pack up the parameters and initial conditions:\n",
    "\n",
    "z0 = [C0_0, C1_0, C2_0, C3_0, C4_0, I0_0, I1_0, I2_0, I3_0, I4_0, O_0]\n",
    "\n",
    "#K = [Vstep,tini_eq, tini_prep, tini_test, tini_repo]\n",
    "\n",
    "K = [Vrest, Vstep, Vtest, Vrepo, tini_eq, tini_prep, tini_test, tini_repo]\n",
    "\n",
    "# time array\n",
    "t = np.linspace(tini_eq,tend,Npoints)\n",
    "\n",
    "# ODE solver parameters\n",
    "abserr = 1.0e-8\n",
    "relerr = 1.0e-6\n",
    "\n",
    "# Call for the ODE integrator with initial conditions z0 and parameter K\n",
    "C = odeint(ode_Lin_model_M, z0, t, args=(K,))\n",
    "\n",
    "# Compute the current proportional to the open channel conductance and potential applied\n",
    "I = gK_max * C[:,10] * (V[:] - Vrest)"
   ]
  },
  {
   "cell_type": "markdown",
   "metadata": {},
   "source": [
    "### Plot Inactivation"
   ]
  },
  {
   "cell_type": "code",
   "execution_count": 17,
   "metadata": {},
   "outputs": [
    {
     "data": {
      "image/png": "[encoded data removed]",
      "text/plain": [
       "<Figure size 432x288 with 1 Axes>"
      ]
     },
     "metadata": {
      "needs_background": "light"
     },
     "output_type": "display_data"
    },
    {
     "data": {
      "image/png": "[encoded data removed]",
      "text/plain": [
       "<Figure size 432x288 with 1 Axes>"
      ]
     },
     "metadata": {
      "needs_background": "light"
     },
     "output_type": "display_data"
    }
   ],
   "source": [
    "fig = plt.figure()\n",
    "axes_V= fig.add_subplot(111)\n",
    "plt.title('V applied')\n",
    "plt.plot(t, V, 'b-', linewidth=2.0, label=\"V (mV)\")\n",
    "plt.legend(loc='lower right')\n",
    "plt.show()\n",
    "\n",
    "miao = plt.figure()\n",
    "axes = miao.add_subplot(111)\n",
    "plt.title('Inactivation V404')\n",
    "\n",
    "plt.plot(t, I, 'r-', linewidth=2.0, label=\"I\")\n",
    "\n",
    "#axes.set_ylim([-1,1])\n",
    "axes.set_xlim([0.99,1.5])\n",
    "\n",
    "plt.legend(loc='upper right')\n",
    "plt.show()"
   ]
  },
  {
   "cell_type": "markdown",
   "metadata": {},
   "source": [
    "## Recovery from Inactivation Wild Type"
   ]
  },
  {
   "cell_type": "code",
   "execution_count": 18,
   "metadata": {},
   "outputs": [],
   "source": [
    "Vrest   =  -40.0 # mV\n",
    "Vstep   =  -120.0  # mV\n",
    "Vtest   =  60.0 # mV\n",
    "Vrepo   =  -120.0 # mV\n",
    "# conductance parameters\n",
    "\n",
    "#EK      = 0.0    # mV\n",
    "gK_max  = 20.0     # mS cm^-2\n",
    "\n",
    "# Assuming no leaking\n",
    "#EL      = 0.0  # -22.0 # mV\n",
    "#gL_max  = 0.0    # mS cm^-2\n",
    "\n",
    "# Membrane capacitance\n",
    "Cm      = 1.0    # microF cm^-2\n",
    "\n",
    "# Time of experiments\n",
    "tini_eq   = 0    # s\n",
    "tini_prep = 0.50 # s\n",
    "tini_test = 0.51 # s\n",
    "tini_repo = 0.56 # s\n",
    "tend = 2.0 # s\n",
    "\n",
    "# Time discretiztion\n",
    "Npoints = 100000\n",
    "Points_per_sec = np.int(Npoints/tend) \n",
    "\n",
    "# Define Potential function (To be improved if one wants to do IV, deactivation, inactivation or recovery)\n",
    "V=np.zeros(Npoints)\n",
    "V[np.int(Points_per_sec * tini_eq):np.int(Points_per_sec * tini_prep)] = Vrest\n",
    "V[np.int(Points_per_sec * tini_prep):np.int(Points_per_sec * tini_test)] = Vstep\n",
    "V[np.int(Points_per_sec * tini_test):np.int(Points_per_sec * tini_repo)] = Vtest\n",
    "V[np.int(Points_per_sec * tini_repo):np.int(Points_per_sec * tend)] = Vrepo\n",
    "\n",
    "# Guess of initial conditions for the states \n",
    "\n",
    "C0_0=0.4390\n",
    "C1_0=0.2588\n",
    "C2_0=0.0572\n",
    "C3_0=0.0056\n",
    "C4_0=0.0002\n",
    "I0_0=0.0128\n",
    "I1_0=0.0553\n",
    "I2_0=0.0894\n",
    "I3_0=0.0642\n",
    "I4_0=0.0172\n",
    "O_0=0.0001\n",
    "\n",
    "# Pack up the parameters and initial conditions:\n",
    "\n",
    "z0 = [C0_0, C1_0, C2_0, C3_0, C4_0, I0_0, I1_0, I2_0, I3_0, I4_0, O_0]\n",
    "\n",
    "#K = [Vstep,tini_eq, tini_prep, tini_test, tini_repo]\n",
    "\n",
    "K = [Vrest, Vstep, Vtest, Vrepo, tini_eq, tini_prep, tini_test, tini_repo]\n",
    "\n",
    "# time array\n",
    "t = np.linspace(tini_eq,tend,Npoints)\n",
    "\n",
    "# ODE solver parameters\n",
    "abserr = 1.0e-8\n",
    "relerr = 1.0e-6\n",
    "\n",
    "# Call for the ODE integrator with initial conditions z0 and parameter K\n",
    "C = odeint(ode_Lin_model_WT, z0, t, args=(K,))\n",
    "\n",
    "# Compute the current proportional to the open channel conductance and potential applied\n",
    "I = gK_max * C[:,10] * (V[:] - Vrest)\n"
   ]
  },
  {
   "cell_type": "markdown",
   "metadata": {},
   "source": [
    "### Plot Recovery"
   ]
  },
  {
   "cell_type": "code",
   "execution_count": 19,
   "metadata": {},
   "outputs": [
    {
     "data": {
      "image/png": "[encoded data removed]",
      "text/plain": [
       "<Figure size 432x288 with 1 Axes>"
      ]
     },
     "metadata": {
      "needs_background": "light"
     },
     "output_type": "display_data"
    },
    {
     "data": {
      "image/png": "[encoded data removed]",
      "text/plain": [
       "<Figure size 432x288 with 1 Axes>"
      ]
     },
     "metadata": {
      "needs_background": "light"
     },
     "output_type": "display_data"
    }
   ],
   "source": [
    "fig = plt.figure()\n",
    "axes_V= fig.add_subplot(111)\n",
    "plt.title('V applied')\n",
    "plt.plot(t, V, 'b-', linewidth=2.0, label=\"V (mV)\")\n",
    "plt.legend(loc='lower right')\n",
    "plt.show()\n",
    "\n",
    "miao = plt.figure()\n",
    "axes = miao.add_subplot(111)\n",
    "plt.title('Recovery WT')\n",
    "\n",
    "plt.plot(t, I, 'r-', linewidth=2.0, label=\"I\")\n",
    "\n",
    "#axes.set_ylim([-5,5])\n",
    "axes.set_xlim([0.49,0.75])\n",
    "\n",
    "plt.legend(loc='upper right')\n",
    "plt.show()"
   ]
  },
  {
   "cell_type": "markdown",
   "metadata": {},
   "source": [
    "## Recovery from Inactivation V404"
   ]
  },
  {
   "cell_type": "code",
   "execution_count": 22,
   "metadata": {},
   "outputs": [],
   "source": [
    "Vrest   =  -60.0 # mV\n",
    "Vstep   =  -120.0  # mV\n",
    "Vtest   =  60.0 # mV\n",
    "Vrepo   =  -120.0 # mV\n",
    "# conductance parameters\n",
    "\n",
    "#EK      = 0.0    # mV\n",
    "gK_max  = 20.0     # mS cm^-2\n",
    "\n",
    "# Assuming no leaking\n",
    "#EL      = 0.0  # -22.0 # mV\n",
    "#gL_max  = 0.0    # mS cm^-2\n",
    "\n",
    "# Membrane capacitance\n",
    "Cm      = 1.0    # microF cm^-2\n",
    "\n",
    "# Time of experiments\n",
    "tini_eq   = 0    # s\n",
    "tini_prep = 1.0 # s\n",
    "tini_test = 1.05 # s\n",
    "tini_repo = 1.10 # s\n",
    "tend = 1.60 # s\n",
    "\n",
    "# Time discretiztion\n",
    "Npoints = 100000\n",
    "Points_per_sec = np.int(Npoints/tend) \n",
    "\n",
    "# Define Potential function (To be improved if one wants to do IV, deactivation, inactivation or recovery)\n",
    "V=np.zeros(Npoints)\n",
    "V[np.int(Points_per_sec * tini_eq):np.int(Points_per_sec * tini_prep)] = Vrest\n",
    "V[np.int(Points_per_sec * tini_prep):np.int(Points_per_sec * tini_test)] = Vstep\n",
    "V[np.int(Points_per_sec * tini_test):np.int(Points_per_sec * tini_repo)] = Vtest\n",
    "V[np.int(Points_per_sec * tini_repo):np.int(Points_per_sec * tend)] = Vrepo\n",
    "\n",
    "# Guess of initial conditions for the states \n",
    "\n",
    "C0_0=0.4390\n",
    "C1_0=0.2588\n",
    "C2_0=0.0572\n",
    "C3_0=0.0056\n",
    "C4_0=0.0002\n",
    "I0_0=0.0128\n",
    "I1_0=0.0553\n",
    "I2_0=0.0894\n",
    "I3_0=0.0642\n",
    "I4_0=0.0172\n",
    "O_0=0.0001\n",
    "\n",
    "# Pack up the parameters and initial conditions:\n",
    "\n",
    "z0 = [C0_0, C1_0, C2_0, C3_0, C4_0, I0_0, I1_0, I2_0, I3_0, I4_0, O_0]\n",
    "\n",
    "#K = [Vstep,tini_eq, tini_prep, tini_test, tini_repo]\n",
    "\n",
    "K = [Vrest, Vstep, Vtest, Vrepo, tini_eq, tini_prep, tini_test, tini_repo]\n",
    "\n",
    "# time array\n",
    "t = np.linspace(tini_eq,tend,Npoints)\n",
    "\n",
    "# ODE solver parameters\n",
    "abserr = 1.0e-8\n",
    "relerr = 1.0e-6\n",
    "\n",
    "# Call for the ODE integrator with initial conditions z0 and parameter K\n",
    "C = odeint(ode_Lin_model_M, z0, t, args=(K,))\n",
    "\n",
    "# Compute the current proportional to the open channel conductance and potential applied\n",
    "I = gK_max * C[:,10] * (V[:] - Vrest)"
   ]
  },
  {
   "cell_type": "markdown",
   "metadata": {},
   "source": [
    "### Plot Recovery"
   ]
  },
  {
   "cell_type": "code",
   "execution_count": 23,
   "metadata": {},
   "outputs": [
    {
     "data": {
      "image/png": "[encoded data removed]",
      "text/plain": [
       "<Figure size 432x288 with 1 Axes>"
      ]
     },
     "metadata": {
      "needs_background": "light"
     },
     "output_type": "display_data"
    },
    {
     "data": {
      "image/png": "[encoded data removed]",
      "text/plain": [
       "<Figure size 432x288 with 1 Axes>"
      ]
     },
     "metadata": {
      "needs_background": "light"
     },
     "output_type": "display_data"
    }
   ],
   "source": [
    "fig = plt.figure()\n",
    "axes_V= fig.add_subplot(111)\n",
    "plt.title('V applied')\n",
    "plt.plot(t, V, 'b-', linewidth=2.0, label=\"V (mV)\")\n",
    "plt.legend(loc='lower right')\n",
    "plt.show()\n",
    "\n",
    "miao = plt.figure()\n",
    "axes = miao.add_subplot(111)\n",
    "plt.title('Recovery V404')\n",
    "\n",
    "plt.plot(t, I, 'r-', linewidth=2.0, label=\"I\")\n",
    "\n",
    "#axes.set_ylim([-1,1])\n",
    "axes.set_xlim([0.99,1.5])\n",
    "\n",
    "plt.legend(loc='upper right')\n",
    "plt.show()"
   ]
  },
  {
   "cell_type": "code",
   "execution_count": null,
   "metadata": {},
   "outputs": [],
   "source": []
  }
 ],
 "metadata": {
  "kernelspec": {
   "display_name": "Python 2",
   "language": "python",
   "name": "python2"
  },
  "language_info": {
   "codemirror_mode": {
    "name": "ipython",
    "version": 2
   },
   "file_extension": ".py",
   "mimetype": "text/x-python",
   "name": "python",
   "nbconvert_exporter": "python",
   "pygments_lexer": "ipython2",
   "version": "2.7.16"
  }
 },
 "nbformat": 4,
 "nbformat_minor": 2
}
